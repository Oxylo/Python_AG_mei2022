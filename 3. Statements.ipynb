{
 "cells": [
  {
   "cell_type": "markdown",
   "metadata": {},
   "source": [
    "## Python Statements\n",
    "Loops are used to structure code such that we need to repeat as little code as possible in a file, we will see for and while loops in this notebook. The if statement can be used to execute a code block only under a given condition. Loops can be stopped using breaks, which are introduced at the end of the notebook.\n",
    "\n",
    "### For loops\n",
    "Imagine we want to compute the square of all numbers between 0 and 9. We could do this in the following manner\n",
    "\n",
    "<code>print(1 ** 2) </code>  \n",
    "<code>print(2 ** 2) </code>  \n",
    "<code>print(3 ** 2) </code>  \n",
    "<code>print(4 ** 2) </code>  \n",
    "<code>print(5 ** 2) </code>  \n",
    "<code>print(6 ** 2) </code>  \n",
    "<code>print(7 ** 2) </code>  \n",
    "<code>print(8 ** 2) </code>  \n",
    "<code>print(9 ** 2) </code>  \n",
    "\n",
    "\n",
    "However, this is annoying, as we keep copying the same line changing only one number. Especially if we'd want to do the same action for hundereds of times the task is particularly boring and errors are easily made. Instead of writing the same line over and over we can use a loop\n",
    "\n",
    "<code>for i in range(1,10,1):</code>  \n",
    "<code>  print(i ** 2)        </code>\n",
    "\n",
    "The for loop will assign the values in <code>range(1,10,1)</code> one by one to <code>i</code>. For each <code>i</code> the expression in the body of the for-loop, i.e. the indented line, will be executed. "
   ]
  },
  {
   "cell_type": "code",
   "execution_count": null,
   "metadata": {},
   "outputs": [],
   "source": [
    "for i in range(1,10,1):\n",
    "    print(i**2)"
   ]
  },
  {
   "cell_type": "markdown",
   "metadata": {},
   "source": [
    "Instead of printing the values we can build a list with for loops"
   ]
  },
  {
   "cell_type": "code",
   "execution_count": null,
   "metadata": {},
   "outputs": [],
   "source": [
    "x = []\n",
    "for i in range(10):\n",
    "    x.append(i**2)"
   ]
  },
  {
   "cell_type": "markdown",
   "metadata": {},
   "source": [
    "# List Comprehensions"
   ]
  },
  {
   "cell_type": "markdown",
   "metadata": {},
   "source": [
    "A more pythonic way to write the same code as the one above is to use list comprehensions\n",
    "List Comprehensions\n",
    "\n",
    "List comprehensions allow us to build out lists using a different notation. You can think of it as essentially a one line for loop built inside of brackets. For a simple example:"
   ]
  },
  {
   "cell_type": "code",
   "execution_count": null,
   "metadata": {},
   "outputs": [],
   "source": [
    "x = [i**2 for i in range(10)]"
   ]
  },
  {
   "cell_type": "markdown",
   "metadata": {},
   "source": [
    "The list comprehension is preferred over for loops in python as it is more efficient, and easier to read. Unless the code block in the for loop becomes very long, that is."
   ]
  },
  {
   "cell_type": "markdown",
   "metadata": {},
   "source": [
    "Let's see how to add in <code>if</code> statements:"
   ]
  },
  {
   "cell_type": "code",
   "execution_count": null,
   "metadata": {},
   "outputs": [],
   "source": [
    "# Check for even numbers in a range\n",
    "y = [x for x in range(11) if x % 2 == 0]"
   ]
  },
  {
   "cell_type": "code",
   "execution_count": null,
   "metadata": {},
   "outputs": [],
   "source": [
    "y"
   ]
  },
  {
   "cell_type": "markdown",
   "metadata": {},
   "source": [
    "Can also do more complicated arithmetic:"
   ]
  },
  {
   "cell_type": "code",
   "execution_count": null,
   "metadata": {},
   "outputs": [],
   "source": [
    "# Convert Celsius to Fahrenheit\n",
    "celsius = [0, 10, 20.1, 34.5]\n",
    "\n",
    "fahrenheit = [((9 / 5) * temp + 32) for temp in celsius ]\n",
    "\n",
    "fahrenheit"
   ]
  },
  {
   "cell_type": "markdown",
   "metadata": {},
   "source": [
    "### <font color='blue'> Building for loops </font>\n",
    "1. Loop over the list ['Anna','Bob','Charly','Danny'] and print the names.\n",
    "2. Assign all square roots between 0 and 10 to <code>y</code>. You can either use that $\\sqrt{x} = x^{0.5}$ or use a dedicated library (such as numpy). Use list comprehension."
   ]
  },
  {
   "cell_type": "code",
   "execution_count": null,
   "metadata": {},
   "outputs": [],
   "source": []
  },
  {
   "cell_type": "markdown",
   "metadata": {},
   "source": [
    "### While loop\n",
    "Sometimes we want to repeat an action until a stopping condition is reached. This can be achieved with the <code>while</code> loop. Let's say we want to multiply the number one by two until it is larger than 1000. With a while loop we would write this as"
   ]
  },
  {
   "cell_type": "code",
   "execution_count": null,
   "metadata": {},
   "outputs": [],
   "source": [
    "number = 1\n",
    "while number<1000:\n",
    "    number *= 2\n",
    "print(number)"
   ]
  },
  {
   "cell_type": "markdown",
   "metadata": {},
   "source": [
    "### <font color='blue'> Building while loops </font>\n",
    "Add 2 to a number initialized by 1 until it is larger than 10. Print the outcome to check you get 11."
   ]
  },
  {
   "cell_type": "code",
   "execution_count": null,
   "metadata": {},
   "outputs": [],
   "source": []
  },
  {
   "cell_type": "markdown",
   "metadata": {},
   "source": [
    "### The if statement\n",
    "\n",
    "The if statement allows to run a code block only if a condition is met. The syntax is  \n",
    "\n",
    "<code>if condition_A: </code>  \n",
    "<code>  do something</code>  \n",
    "<code>elif condition_B: </code>   \n",
    "<code>  do something</code>  \n",
    "<code>elif condition_C: </code>   \n",
    "<code>  do something</code>  \n",
    "<code>else: </code>   \n",
    "<code>  do something</code> \n",
    "<code>resume</code>\n",
    "\n",
    "First it is checked whether condition A hold, if this is the case the code block is executed. If condition does not hold we check condition B. If none of the conditions hold we end up in the <code>else</code> block. An example checks whether the numbers from 0 to 9 are even or odd:"
   ]
  },
  {
   "cell_type": "code",
   "execution_count": null,
   "metadata": {},
   "outputs": [],
   "source": [
    "for i in range(10):\n",
    "    if i % 2 == 0:\n",
    "        print('Even number: ', i)\n",
    "    else:\n",
    "        print('Uneven number: ', i)"
   ]
  },
  {
   "cell_type": "markdown",
   "metadata": {},
   "source": [
    "### <font color='blue'> If statement </font>\n",
    "1. Make a variable representing the numer of coffees a user drinks per day.\n",
    "2. Make a variable representing the number of coffees a user has drunk today.\n",
    "3. - If the number of coffes drunk today are below or equal the number of coffes drunk on an average day: offer a coffee\n",
    "   - If the number twice above the average: ask whether you can be of any help\n",
    "   - Else offer a tea."
   ]
  },
  {
   "cell_type": "markdown",
   "metadata": {},
   "source": [
    "Side remark: For short if/else statements we can use one line only. Example:"
   ]
  },
  {
   "cell_type": "code",
   "execution_count": null,
   "metadata": {},
   "outputs": [],
   "source": [
    "condition = True\n",
    "x = 1 if condition else 0\n",
    "print(x)"
   ]
  },
  {
   "cell_type": "markdown",
   "metadata": {},
   "source": [
    "### Break, continue and pass\n",
    "Sometimes we want to stop a loop if a condition is met, this can be done with statements such as <code>break</code> and <code>continue</code>. While building up our code we might not fill all statements that are needed syntatically, yet. We can use <code>pass</code> if nothing needs to be executed.\n",
    "\n",
    "The <code>break</code> statement will cause the program to leave the loop. For example:"
   ]
  },
  {
   "cell_type": "code",
   "execution_count": null,
   "metadata": {},
   "outputs": [],
   "source": [
    "count = 0\n",
    "while True:\n",
    "    if count >= 6:\n",
    "        break\n",
    "    print(count)\n",
    "    count += 1\n"
   ]
  },
  {
   "cell_type": "markdown",
   "metadata": {},
   "source": [
    "The <code>continue</code> statement will jump to the next loop iteration, without finishing the code block:"
   ]
  },
  {
   "cell_type": "code",
   "execution_count": null,
   "metadata": {},
   "outputs": [],
   "source": [
    "for x in range(10):\n",
    "    if x % 2 == 0:  # Check if x is even\n",
    "        continue\n",
    "    print(x)"
   ]
  },
  {
   "cell_type": "markdown",
   "metadata": {},
   "source": [
    "The <code>pass</code> statement does nothing ..."
   ]
  },
  {
   "cell_type": "code",
   "execution_count": null,
   "metadata": {},
   "outputs": [],
   "source": [
    "if 1==1:\n",
    "    pass"
   ]
  }
 ],
 "metadata": {
  "kernelspec": {
   "display_name": "Python 3 (ipykernel)",
   "language": "python",
   "name": "python3"
  },
  "language_info": {
   "codemirror_mode": {
    "name": "ipython",
    "version": 3
   },
   "file_extension": ".py",
   "mimetype": "text/x-python",
   "name": "python",
   "nbconvert_exporter": "python",
   "pygments_lexer": "ipython3",
   "version": "3.8.10"
  }
 },
 "nbformat": 4,
 "nbformat_minor": 2
}
