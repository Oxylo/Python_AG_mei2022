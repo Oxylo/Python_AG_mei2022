{
 "cells": [
  {
   "cell_type": "markdown",
   "metadata": {},
   "source": [
    "## Python Containers\n",
    "\n",
    "Containers are ensembles/groups of python objects. For different tasks different containers are preferred. In this notebook the four most used containers - lists, tuples, sets and dictionaries - are introduced. In contrast to the data types of the first notebook, some containers are mutable. This means they behave like pointers, as we will see towards the end of the notebook."
   ]
  },
  {
   "cell_type": "markdown",
   "metadata": {},
   "source": [
    "### Lists\n",
    "Lists are ordered collections of objects. The objects in a list need not have the same type. We can initialize a list with square brackets: <code>[]</code>."
   ]
  },
  {
   "cell_type": "code",
   "execution_count": null,
   "metadata": {},
   "outputs": [],
   "source": [
    "my_list = ['a', 1, 2.2, 3, 4, 5]\n",
    "my_list"
   ]
  },
  {
   "cell_type": "markdown",
   "metadata": {},
   "source": [
    "We can create a list with 10 ones in the following manner:"
   ]
  },
  {
   "cell_type": "code",
   "execution_count": null,
   "metadata": {},
   "outputs": [],
   "source": [
    "[1] * 10"
   ]
  },
  {
   "cell_type": "markdown",
   "metadata": {},
   "source": [
    "We can access the objects in the list by their index. The first object has index 0, the second object index 1 and so on."
   ]
  },
  {
   "cell_type": "code",
   "execution_count": null,
   "metadata": {},
   "outputs": [],
   "source": [
    "my_list[0]"
   ]
  },
  {
   "cell_type": "markdown",
   "metadata": {},
   "source": [
    "Likewise, we can access the last object by indicating the position from the back with a <code>-</code> sign."
   ]
  },
  {
   "cell_type": "code",
   "execution_count": null,
   "metadata": {},
   "outputs": [],
   "source": [
    "my_list[-1]"
   ]
  },
  {
   "cell_type": "markdown",
   "metadata": {},
   "source": [
    "We can slide the list by indicating the index of the first element and the last not to be included element."
   ]
  },
  {
   "cell_type": "code",
   "execution_count": null,
   "metadata": {},
   "outputs": [],
   "source": [
    "my_list[2:4]"
   ]
  },
  {
   "cell_type": "markdown",
   "metadata": {},
   "source": [
    "Additional elements can be added to the list using the <code>append</code> method."
   ]
  },
  {
   "cell_type": "code",
   "execution_count": null,
   "metadata": {},
   "outputs": [],
   "source": [
    "my_list.append(6)\n",
    "print(my_list)"
   ]
  },
  {
   "cell_type": "markdown",
   "metadata": {},
   "source": [
    "If we want to add the element to a specific location in the list we can use <code>insert</code>."
   ]
  },
  {
   "cell_type": "code",
   "execution_count": null,
   "metadata": {},
   "outputs": [],
   "source": [
    "my_list.insert(4,'q')\n",
    "print(my_list)"
   ]
  },
  {
   "cell_type": "markdown",
   "metadata": {},
   "source": [
    "### <font color='blue'> Initializing, slicing and growing lists </font>\n",
    "Before exploring how to remove elements from the list, we exercise creating lists.\n",
    "\n",
    "<ul>\n",
    "  <li>Create a list with 20 threes and give it a name of choice</li>\n",
    "  <li>Change the 5th element to a 5 </li>\n",
    "  <li>Check that the 5th element is a 5 </li>\n",
    "  <li>What is the <code>type</code>of your list?</li>\n",
    "</ul>"
   ]
  },
  {
   "cell_type": "code",
   "execution_count": null,
   "metadata": {},
   "outputs": [],
   "source": []
  },
  {
   "cell_type": "markdown",
   "metadata": {},
   "source": [
    "### <font color='blue'> Removing elements from a list </font>\n",
    "Next we want to remove some elements from the list. To exercise using the help functions of python, we will find out the appropriate method using ipyhton magic which is available in the jupyter notebooks and in ipython shells.\n",
    "\n",
    "\n",
    "#### Viewing the available methods\n",
    "Type the name of your list followed by a dot. For the list initiated earlier in the notebook we would type <code>my_list.</code>. With you cursor behind the dot press tab. A drop down list with all available methods should appear. Which of these methods would you expect to remove entries? To see the answer double click this cell.\n",
    "\n",
    "<font color='white'>The methods are: clear, pop and remove. </font>"
   ]
  },
  {
   "cell_type": "code",
   "execution_count": null,
   "metadata": {},
   "outputs": [],
   "source": []
  },
  {
   "cell_type": "code",
   "execution_count": null,
   "metadata": {},
   "outputs": [],
   "source": []
  },
  {
   "cell_type": "markdown",
   "metadata": {},
   "source": [
    "#### <font color='blue'> Removing elements from a list resumed </font>\n",
    "To consult the documentation use a <code>?</code> at the end of the object you want to learn about. For example, if we would want to know what *count* does, we would type <code>my_list.count?</code>.\n",
    "\n",
    "<ul>\n",
    "  <li>Which of the methods is used to remove all items form the list?</li>\n",
    "  <li>Which of the methods is used to remove an item by index?</li>\n",
    "  <li>Which of the methods is used to remove the first occurence of an object?</li>\n",
    "</ul>"
   ]
  },
  {
   "cell_type": "code",
   "execution_count": null,
   "metadata": {},
   "outputs": [],
   "source": []
  },
  {
   "cell_type": "markdown",
   "metadata": {},
   "source": [
    "#### <font color='blue'> Removing elements from a list resumed </font>\n",
    "Remove the 5 from your list, which is your preferred method? Why?"
   ]
  },
  {
   "cell_type": "code",
   "execution_count": null,
   "metadata": {},
   "outputs": [],
   "source": []
  },
  {
   "cell_type": "markdown",
   "metadata": {},
   "source": [
    "### Tuple\n",
    "Tuples are \"protected\" lists - once it is created we cannot change a tuple. Tuples are initialized with round brackets <code>()</code>."
   ]
  },
  {
   "cell_type": "code",
   "execution_count": null,
   "metadata": {},
   "outputs": [],
   "source": [
    "my_tuple = (1,2,3,'ugh')"
   ]
  },
  {
   "cell_type": "markdown",
   "metadata": {},
   "source": [
    "### <font color='blue'> Tuples and their methods </font>\n",
    "What methods does a tuple offer?"
   ]
  },
  {
   "cell_type": "code",
   "execution_count": null,
   "metadata": {},
   "outputs": [],
   "source": []
  },
  {
   "cell_type": "code",
   "execution_count": null,
   "metadata": {},
   "outputs": [],
   "source": []
  },
  {
   "cell_type": "markdown",
   "metadata": {},
   "source": [
    "### <font color='blue'> Make a tuple </font>\n",
    "1. Make a tuple containing your name and your birth date.\n",
    "2. How can you print only your name using the tuple?\n",
    "3. Can you change your birth date?"
   ]
  },
  {
   "cell_type": "code",
   "execution_count": null,
   "metadata": {},
   "outputs": [],
   "source": []
  },
  {
   "cell_type": "markdown",
   "metadata": {},
   "source": [
    "### Set\n",
    "Sets contain unordered, unique elements. A set is initialized with curly brackets <code>{}</code>."
   ]
  },
  {
   "cell_type": "code",
   "execution_count": null,
   "metadata": {},
   "outputs": [],
   "source": [
    "my_set = {1,2,3,4,5,'aha!'}"
   ]
  },
  {
   "cell_type": "markdown",
   "metadata": {},
   "source": [
    "Elements can be added and removed using the <code>add</code> and <code>remove</code> methods."
   ]
  },
  {
   "cell_type": "code",
   "execution_count": null,
   "metadata": {},
   "outputs": [],
   "source": [
    "print('initial set:',my_set)\n",
    "my_set.add(5)\n",
    "print('adding number 5:',my_set)\n",
    "my_set.remove(1)\n",
    "print('removing number 1:',my_set)"
   ]
  },
  {
   "cell_type": "markdown",
   "metadata": {},
   "source": [
    "### <font color='blue'> Adding elements to a set </font>\n",
    "1. Make a set {1,2,3,4,5} and give it a name.\n",
    "2. Add 'new_entry' to your set. Check the content of your set by printing it.\n",
    "3. Add 'new_entry' again to your set and print the content once more. Do you understand what happened?"
   ]
  },
  {
   "cell_type": "code",
   "execution_count": null,
   "metadata": {},
   "outputs": [],
   "source": []
  },
  {
   "cell_type": "markdown",
   "metadata": {},
   "source": [
    "Sets are useful to analyze which elements are (not) common in two data sources. Let's assume we have data in two lists and we want to know which elements appear in both lists, then we can do:"
   ]
  },
  {
   "cell_type": "code",
   "execution_count": null,
   "metadata": {},
   "outputs": [],
   "source": [
    "l1 = [1,1,1,1,1,2,4,4,4,4,7]\n",
    "l2 = [1,3,5,7]\n",
    "\n",
    "print('common entries are',set(l1).intersection(l2))"
   ]
  },
  {
   "cell_type": "markdown",
   "metadata": {},
   "source": [
    "### <font color='blue'> Adding elements to a set </font>\n",
    "1. Initialize two sets: s1 = set('abcd') and s2 = {'b','c','d','e'}\n",
    "2. Print the sets, do they contain the elements you would have expected?\n",
    "3. What do the following commands do:  \n",
    "<code>s1.difference(s2), s2.difference(s1),s1.symmetric_difference(s2),s2.symmetric_difference(s1)</code>  \n",
    "   explore by running them."
   ]
  },
  {
   "cell_type": "code",
   "execution_count": null,
   "metadata": {},
   "outputs": [],
   "source": []
  },
  {
   "cell_type": "markdown",
   "metadata": {},
   "source": [
    "### Dictionary\n",
    "Dictionaries are similar to lists with the difference that the elements are not indexed by their position, but use a user defined key. Dictionaries are initialized with curly brackets <code>{}</code> in the following manner:"
   ]
  },
  {
   "cell_type": "code",
   "execution_count": null,
   "metadata": {},
   "outputs": [],
   "source": [
    "my_dict = {'key1':'element1','key2':'element2','key3':'element3'}"
   ]
  },
  {
   "cell_type": "markdown",
   "metadata": {},
   "source": [
    "Elements are accessed by their key using square brackets, similar as for lists <code>[]</code>."
   ]
  },
  {
   "cell_type": "code",
   "execution_count": null,
   "metadata": {},
   "outputs": [],
   "source": [
    "my_dict['key1']"
   ]
  },
  {
   "cell_type": "markdown",
   "metadata": {},
   "source": [
    "Further elements can be added to the dictionary by"
   ]
  },
  {
   "cell_type": "code",
   "execution_count": null,
   "metadata": {},
   "outputs": [],
   "source": [
    "my_dict['key4'] = 'element4'\n",
    "print(my_dict)"
   ]
  },
  {
   "cell_type": "markdown",
   "metadata": {},
   "source": [
    "### <font color='blue'>Can a dictionary key be duplicated? </font>\n",
    "Do you think that dictionary keys can be duplicated? Would such a feature be useful?\n",
    "Check whether dictionary keys can be duplicated:\n",
    "1. Initialize a dictionary using the names as keys and the ages as elements: Anna, 18; Bob, 21; George, 21; Maria, 23\n",
    "2. Add an element: Anna, 18 and check the content of the dictionary - did you expect this?\n",
    "3. What would you think happens if you add: Anna, 19? Check your suspicion.  "
   ]
  },
  {
   "cell_type": "code",
   "execution_count": null,
   "metadata": {},
   "outputs": [],
   "source": []
  },
  {
   "cell_type": "markdown",
   "metadata": {},
   "source": [
    "### Mutable and immutable\n",
    "\n",
    "#### Mutable - the example of a list\n",
    "Let's start by investigating the behavior of lists when we assign them to one another. First we create a list and print its memory address:"
   ]
  },
  {
   "cell_type": "code",
   "execution_count": null,
   "metadata": {},
   "outputs": [],
   "source": [
    "l1 = [1,2,3]\n",
    "id(l1)"
   ]
  },
  {
   "cell_type": "markdown",
   "metadata": {},
   "source": [
    "Next we create a second list, with the same content"
   ]
  },
  {
   "cell_type": "code",
   "execution_count": null,
   "metadata": {},
   "outputs": [],
   "source": [
    "l2 = [1,2,3]\n",
    "id(l2)"
   ]
  },
  {
   "cell_type": "markdown",
   "metadata": {},
   "source": [
    "The memory addresses of the two objects are different. Thus the variables point to different memory locations. Lets see what happens if we initialize a third list with the first list."
   ]
  },
  {
   "cell_type": "code",
   "execution_count": null,
   "metadata": {},
   "outputs": [],
   "source": [
    "l3 = l1\n",
    "print(l3)\n",
    "id(l3)"
   ]
  },
  {
   "cell_type": "markdown",
   "metadata": {},
   "source": [
    "This third list has the same memory index as the first list. What do you think happend to the third list if we append an item to the first list?"
   ]
  },
  {
   "cell_type": "code",
   "execution_count": null,
   "metadata": {},
   "outputs": [],
   "source": [
    "l1.append(4)\n",
    "l3"
   ]
  },
  {
   "cell_type": "markdown",
   "metadata": {},
   "source": [
    "The third list is changed, too. This is because both variables, <code>l1</code> and <code>l3</code> point to the same memory location. The variable <code>l2</code>, which is located at an other memory location, did not change."
   ]
  },
  {
   "cell_type": "code",
   "execution_count": null,
   "metadata": {},
   "outputs": [],
   "source": [
    "l2"
   ]
  },
  {
   "cell_type": "markdown",
   "metadata": {},
   "source": [
    "Objects with this behavior are known as mutable objects in Python.\n",
    "\n",
    "#### Imutable - the example of integers\n",
    "\n",
    "Next we do the same game with integers to see how they behave."
   ]
  },
  {
   "cell_type": "code",
   "execution_count": null,
   "metadata": {},
   "outputs": [],
   "source": [
    "i1 = 1\n",
    "i2 = 1\n",
    "i3 = i1\n",
    "id(i1),id(i2),id(i3)"
   ]
  },
  {
   "cell_type": "markdown",
   "metadata": {},
   "source": [
    "We see that in this case all three integers have the same memory location, in particular including the second integer."
   ]
  },
  {
   "cell_type": "code",
   "execution_count": null,
   "metadata": {},
   "outputs": [],
   "source": [
    "i1 += 1  # add one to the first integer"
   ]
  },
  {
   "cell_type": "code",
   "execution_count": null,
   "metadata": {},
   "outputs": [],
   "source": [
    "i1,i2,i3"
   ]
  },
  {
   "cell_type": "markdown",
   "metadata": {},
   "source": [
    "Eventhough all three integers have the same memory location, only the one we altered has changed."
   ]
  },
  {
   "cell_type": "code",
   "execution_count": null,
   "metadata": {},
   "outputs": [],
   "source": [
    "id(i1),id(i2),id(i3)"
   ]
  },
  {
   "cell_type": "markdown",
   "metadata": {},
   "source": [
    "The first integer has accordingly a new memory location. Variables with this behavior are known as imutable."
   ]
  },
  {
   "cell_type": "markdown",
   "metadata": {},
   "source": [
    "### <font color='blue'>Mutable or imutable? </font>\n",
    "Check which of these variables are mutable/imutable by checking whether <code>var1</code> and <code>var2</code> change simultaneously, with <code>var2</code> initiated as <code>var2 = var1</code>. Code block example:\n",
    "\n",
    "<code>var1 = 1\n",
    "var2 = var1\n",
    "var1 +=1\n",
    "print(var1,var2)</code>\n",
    "\n",
    "If <code>var1=var2</code> the variable is mutable.\n",
    "\n",
    "Check the following objects:\n",
    "\n",
    "<ul>\n",
    "  <li>Floats</li>\n",
    "  <li>Booleans</li>\n",
    "  <li>Sets</li>\n",
    "  <li>Dictionary</li>\n",
    "</ul>\n",
    "\n",
    "In some cases you will need to replace the addition in the example with a different operation. Why are there no tuples in this list?"
   ]
  },
  {
   "cell_type": "code",
   "execution_count": null,
   "metadata": {},
   "outputs": [],
   "source": []
  },
  {
   "cell_type": "markdown",
   "metadata": {},
   "source": [
    "### <font color='blue'>Some special attention to tuples? </font>\n",
    "\n",
    "Create a tuple out of an interger and a list: <code> my_tuple = (my_int, my_list)</code>. Next change the list, what happens to the tuple? Do you understand why?\n",
    "\n",
    "Code block example (whithout the necessary print statements):\n",
    "<code>my_int = 1\n",
    "my_list = [1,2,3]\n",
    "my_tuple = (my_int,my_list)\n",
    "my_list.append(4)</code>"
   ]
  },
  {
   "cell_type": "code",
   "execution_count": null,
   "metadata": {},
   "outputs": [],
   "source": []
  }
 ],
 "metadata": {
  "kernelspec": {
   "display_name": "Python 3 (ipykernel)",
   "language": "python",
   "name": "python3"
  },
  "language_info": {
   "codemirror_mode": {
    "name": "ipython",
    "version": 3
   },
   "file_extension": ".py",
   "mimetype": "text/x-python",
   "name": "python",
   "nbconvert_exporter": "python",
   "pygments_lexer": "ipython3",
   "version": "3.8.10"
  }
 },
 "nbformat": 4,
 "nbformat_minor": 2
}
