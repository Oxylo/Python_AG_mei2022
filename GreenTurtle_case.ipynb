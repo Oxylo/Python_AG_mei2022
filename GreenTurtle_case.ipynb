{
 "cells": [
  {
   "cell_type": "markdown",
   "metadata": {},
   "source": [
    "# Green Turtle case"
   ]
  },
  {
   "cell_type": "code",
   "execution_count": null,
   "metadata": {},
   "outputs": [],
   "source": [
    "import numpy as np\n",
    "import pandas as pd\n",
    "import matplotlib.pyplot as plt\n",
    "from os import path\n",
    "plt.style.use('ggplot')"
   ]
  },
  {
   "cell_type": "code",
   "execution_count": null,
   "metadata": {},
   "outputs": [],
   "source": [
    "# Pas data_dir aan naar de locatie op jouw eigen computer!   \n",
    "\n",
    "# Voor Windows gebruikers bijvoorbeeld:\n",
    "# data_dir = r'C:\\Users\\pmarres\\Documents\\projects\\python_cursus\\data'\n",
    "\n",
    "# Linux & MacOS gebruikers: slashes forward i.p.v. backward, raw string niet nodig, bijvoorbeeld \n",
    "data_dir = '/home/pieter/projects/pythonAG202205/data'\n",
    "\n",
    "infile_employees = path.join(data_dir, 'werknemers_GreenTurtle.xlsx')\n",
    "infile_anw = path.join(data_dir, 'anw_premie2021.csv')\n",
    "infile_wia = path.join(data_dir, 'wia_premie2021.csv')"
   ]
  },
  {
   "cell_type": "markdown",
   "metadata": {},
   "source": [
    "### A. Inlezen data"
   ]
  },
  {
   "cell_type": "code",
   "execution_count": null,
   "metadata": {},
   "outputs": [],
   "source": [
    "employees = pd.read_excel(infile_employees, sheet_name='medewerkers')\n",
    "anw_tabel = pd.read_csv(infile_anw, sep='|')\n",
    "wia_tabel = pd.read_csv(infile_wia, sep=',')"
   ]
  },
  {
   "cell_type": "markdown",
   "metadata": {},
   "source": [
    "### B. Verkennen data"
   ]
  },
  {
   "cell_type": "code",
   "execution_count": null,
   "metadata": {},
   "outputs": [],
   "source": [
    "cols = ['Personeelsnummer', 'Voornaam', 'Achternaam', 'Geboortedatum', 'Geslacht', 'Fulltime_salaris']\n",
    "ddf = employees[cols].set_index('Personeelsnummer').head(5)\n",
    "ddf['Fulltime_salaris'] = round(ddf.Fulltime_salaris,2)\n",
    "ddf"
   ]
  },
  {
   "cell_type": "code",
   "execution_count": null,
   "metadata": {},
   "outputs": [],
   "source": [
    "# deelnemerbestand: toon eerste 7 regels\n",
    "# Ga je gang! Tip: gebruik functie .head()"
   ]
  },
  {
   "cell_type": "code",
   "execution_count": null,
   "metadata": {},
   "outputs": [],
   "source": [
    "# deelnemersbestand: summary stats\n",
    "employees.describe()"
   ]
  },
  {
   "cell_type": "code",
   "execution_count": null,
   "metadata": {},
   "outputs": [],
   "source": [
    "# Histogram van Geboortejaar met blauwe balkjes\n",
    "employees['Geboortejaar'] = [x.year for x in employees.Geboortedatum]\n",
    "employees.Geboortejaar.plot(kind='hist', color='blue', edgecolor='white', title='Geboortejaar')"
   ]
  },
  {
   "cell_type": "code",
   "execution_count": null,
   "metadata": {},
   "outputs": [],
   "source": [
    "# Histogram van aantal jaar in dienst (met groene balkjes)\n",
    "employees['Jaar_in_dienst'] = [x.year for x in employees.Datum_in_dienst]\n",
    "employees.Jaar_in_dienst.plot(kind='hist', color='green',\n",
    "                              edgecolor='white',title='Jaar in dienst',\n",
    "                              bins=range(2000, 2021), xticks=range(2000, 2021, 5))"
   ]
  },
  {
   "cell_type": "code",
   "execution_count": null,
   "metadata": {},
   "outputs": [],
   "source": [
    "# Histogram van salaris (met paarse balkjes)\n",
    "# Ga je gang! "
   ]
  },
  {
   "cell_type": "code",
   "execution_count": null,
   "metadata": {},
   "outputs": [],
   "source": [
    "# Piechart van Geslacht\n",
    "employees.Geslacht.value_counts().plot(kind='pie')"
   ]
  },
  {
   "cell_type": "code",
   "execution_count": null,
   "metadata": {},
   "outputs": [],
   "source": [
    "# Piechart van Burgelijke staat\n",
    "# Ga je gang!"
   ]
  },
  {
   "cell_type": "code",
   "execution_count": null,
   "metadata": {},
   "outputs": [],
   "source": [
    "# grafiekje ANW premietabel\n",
    "anw_tabel.set_index('jaar').dekking_16400.plot(kind='line', title='ANW premie per maand')"
   ]
  },
  {
   "cell_type": "code",
   "execution_count": null,
   "metadata": {},
   "outputs": [],
   "source": [
    "# Grafiekje WIA premietabel\n",
    "# Ga je gang!"
   ]
  },
  {
   "cell_type": "markdown",
   "metadata": {},
   "source": [
    "### C. Beantwoording vragen vanuit HR\n"
   ]
  },
  {
   "cell_type": "code",
   "execution_count": null,
   "metadata": {},
   "outputs": [],
   "source": [
    "# Welke medewerkers worden dit jaar 65 jaar?\n",
    "employees['geboortejaar'] = [x.year for x in employees.Geboortedatum]\n",
    "employees[employees.geboortejaar==1956]"
   ]
  },
  {
   "cell_type": "code",
   "execution_count": null,
   "metadata": {},
   "outputs": [],
   "source": [
    "# Welke medewerkers vieren dit jaar hun 10-jarig jubileum bij de zaak?\n",
    "# Ga je gang!"
   ]
  },
  {
   "cell_type": "code",
   "execution_count": null,
   "metadata": {},
   "outputs": [],
   "source": [
    "# Wat is de top-5 van meest voorkomende achternamen?\n",
    "employees.Achternaam.value_counts()[:5]"
   ]
  },
  {
   "cell_type": "code",
   "execution_count": null,
   "metadata": {},
   "outputs": [],
   "source": [
    "# Wat is de top-10 van meest voorkomende plaatsnamen?\n",
    "# Ga je gang! "
   ]
  },
  {
   "cell_type": "code",
   "execution_count": null,
   "metadata": {},
   "outputs": [],
   "source": [
    "# wat is het gemiddelde en maximale salaris van mannen en vrouwen?\n",
    "employees.groupby('Geslacht')['Fulltime_salaris'].agg(['mean', 'max']).round(2)"
   ]
  },
  {
   "cell_type": "code",
   "execution_count": null,
   "metadata": {},
   "outputs": [],
   "source": [
    "# Hoe varieert het salaris naar geslacht?\n",
    "employees.groupby('Geslacht')['Fulltime_salaris'].plot(kind='density', legend=True)"
   ]
  },
  {
   "cell_type": "code",
   "execution_count": null,
   "metadata": {},
   "outputs": [],
   "source": [
    "# wat is het gemiddelde, minimale en maximale salaris naar Burgelijke staat?\n",
    "# Ga je gang! "
   ]
  },
  {
   "cell_type": "code",
   "execution_count": null,
   "metadata": {},
   "outputs": [],
   "source": [
    "# Hoe varieert het salaris naar Burgelijke staat?\n",
    "# Ga je gang! "
   ]
  },
  {
   "cell_type": "markdown",
   "metadata": {},
   "source": [
    "### D. Beantwoorden vragen vanuit Finance"
   ]
  },
  {
   "cell_type": "code",
   "execution_count": null,
   "metadata": {},
   "outputs": [],
   "source": [
    "# Bereken ANW premie 2021 \n",
    "# (let op: alleen indien gehuwd of samenwonend met notariele akte)\n",
    "\n",
    "# koppel ANW premietabel aan medewerkersbestand\n",
    "merged = employees.merge(anw_tabel, right_on='jaar', left_on='geboortejaar')\n",
    "\n",
    "# bereken ANW premie\n",
    "heeft_dekking = employees.Burgerlijke_staat.isin(['gehuwd', 'met_akte'])\n",
    "merged['premie_anw'] = 12 * heeft_dekking * merged.dekking_16400\n",
    "anw_premie = merged.premie_anw.sum().round(2)\n",
    "print('De ANW premie bedraagt:')\n",
    "print(anw_premie)"
   ]
  },
  {
   "cell_type": "code",
   "execution_count": null,
   "metadata": {},
   "outputs": [],
   "source": [
    "# Bereken WIA premie 2021\n",
    "\n",
    "# Formule:\n",
    "# ft_grondslag = MAX(0, ft_salaris -/- WIAloongrens)\n",
    "# premie = 80% * premie% * PT% * ft_grondslag\n",
    "# De WIA-loongrens is per 1 januari 2021 € 58.311\n",
    "\n",
    "# koppel WIA premietabel aan medewerkersbestand\n",
    "merged = employees.merge(wia_tabel, right_on='geboortejaar', left_on='geboortejaar')\n",
    "merged['ft_grondslag'] =  np.where(merged.Fulltime_salaris > 58311, merged.Fulltime_salaris - 58311, 0) \n",
    "\n",
    "# Ga je gang! "
   ]
  },
  {
   "cell_type": "code",
   "execution_count": null,
   "metadata": {},
   "outputs": [],
   "source": []
  }
 ],
 "metadata": {
  "kernelspec": {
   "display_name": "Python 3 (ipykernel)",
   "language": "python",
   "name": "python3"
  },
  "language_info": {
   "codemirror_mode": {
    "name": "ipython",
    "version": 3
   },
   "file_extension": ".py",
   "mimetype": "text/x-python",
   "name": "python",
   "nbconvert_exporter": "python",
   "pygments_lexer": "ipython3",
   "version": "3.8.10"
  }
 },
 "nbformat": 4,
 "nbformat_minor": 4
}
