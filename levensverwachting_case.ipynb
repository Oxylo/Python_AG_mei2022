{
 "cells": [
  {
   "cell_type": "markdown",
   "id": "906b1137",
   "metadata": {},
   "source": [
    "# Levensverwachting case\n",
    "In deze case gaan we kijken wat het verschil is in levensverwachting tussen 5 Amerikaanse bevolkingsgroepen:\n",
    "* Asian\n",
    "* Blacks\n",
    "* Hispanics\n",
    "* Natives\n",
    "* Whites\n",
    "<p><p>De resultaten van onze analyse communiceren we in de vorm van een tabel met per bevolginsgroep de levensverwachting (bij geboorte) plus een barchart.</p></p>\n"
   ]
  },
  {
   "cell_type": "code",
   "execution_count": null,
   "id": "c823ed47",
   "metadata": {},
   "outputs": [],
   "source": [
    "import os\n",
    "import pandas as pd\n",
    "import matplotlib.pyplot as plt\n",
    "\n",
    "plt.style.use('ggplot')"
   ]
  },
  {
   "cell_type": "markdown",
   "id": "4c5bd1cc",
   "metadata": {},
   "source": [
    "# A. Omgaan met text strings en dataframes (algemeen)"
   ]
  },
  {
   "cell_type": "code",
   "execution_count": null,
   "id": "5af99d3f",
   "metadata": {},
   "outputs": [],
   "source": [
    "# String splitsen\n",
    "string = 'aap_noot_mies'\n",
    "\n",
    "splitted = string.split('_')\n",
    "print(splitted)\n",
    "print(splitted[0])\n",
    "\n"
   ]
  },
  {
   "cell_type": "code",
   "execution_count": null,
   "id": "a16cdda8",
   "metadata": {},
   "outputs": [],
   "source": [
    "# Strings samenvoegen\n",
    "'lx' + '_asian'"
   ]
  },
  {
   "cell_type": "code",
   "execution_count": null,
   "id": "9c5adcc3",
   "metadata": {},
   "outputs": [],
   "source": [
    "# Dataframe bewerken\n",
    "my_dict = {'aap': [10, 8, 6, 2], 'noot': [1, 7, 8, 10]}\n",
    "df = pd.DataFrame(my_dict)\n",
    "df"
   ]
  },
  {
   "cell_type": "code",
   "execution_count": null,
   "id": "4d4808f1",
   "metadata": {},
   "outputs": [],
   "source": [
    "# kolom er uit halen met behoud van DataFrame\n",
    "aap = df[['aap']]\n",
    "aap"
   ]
  },
  {
   "cell_type": "code",
   "execution_count": null,
   "id": "dafea908",
   "metadata": {},
   "outputs": [],
   "source": [
    "# kolomnaam veranderen\n",
    "aap = aap.rename(columns={'aap': 'mies'})\n",
    "aap"
   ]
  },
  {
   "cell_type": "code",
   "execution_count": null,
   "id": "f1904488",
   "metadata": {},
   "outputs": [],
   "source": [
    "# berekende kolommen toevoegen\n",
    "aap['keer2'] = 2 * aap.mies \n",
    "aap['shifted'] = aap.mies.shift(-1)\n",
    "aap['delta'] = aap.mies - aap.shifted\n",
    "aap['cumsum'] = aap.mies.cumsum()\n",
    "aap['cumsum_reverse'] = aap.mies.iloc[::-1].cumsum().iloc[::-1]\n",
    "aap"
   ]
  },
  {
   "cell_type": "markdown",
   "id": "c4e79878",
   "metadata": {},
   "source": [
    "# B. Berekenen levensverwachting per bevolkingsgroep"
   ]
  },
  {
   "cell_type": "code",
   "execution_count": null,
   "id": "055331ca",
   "metadata": {},
   "outputs": [],
   "source": [
    "# inlezen gegevens\n",
    "\n",
    "# PAS data_dir AAN NAAR MAP OP JOUW EIGEN COMPUTER!\n",
    "\n",
    "# Linux / Mac\n",
    "data_dir = '/home/pieter/projects/pythonAG202205/data'\n",
    "\n",
    "# Windows\n",
    "# data_dir = r'C:\\Users\\pieter\\Documents\\pythonAG202205\\data'\n",
    "\n",
    "full_path = os.path.join(data_dir, 'lifetables.xlsx')\n",
    "data = pd.read_excel(full_path)"
   ]
  },
  {
   "cell_type": "code",
   "execution_count": null,
   "id": "7ad7a6f1",
   "metadata": {},
   "outputs": [],
   "source": [
    "# We beginnen met tabel opbouwen voor de Asians\n",
    "df = data[['lx_asians']].rename(columns={'lx_asians': 'lx'})"
   ]
  },
  {
   "cell_type": "code",
   "execution_count": null,
   "id": "8d42c8c0",
   "metadata": {},
   "outputs": [],
   "source": [
    "# Voeg kolom px toe (kans dat x nog in leven is na 1 jaar)\n",
    "df['px'] = df.lx.shift(-1) / df.lx\n",
    "df"
   ]
  },
  {
   "cell_type": "code",
   "execution_count": null,
   "id": "a36ff5cd",
   "metadata": {},
   "outputs": [],
   "source": [
    "# Voeg kolom qx toe (kans dat x binnen 1 jaar overlijdt) \n",
    "df['qx'] = 1 - df.px\n",
    "df"
   ]
  },
  {
   "cell_type": "code",
   "execution_count": null,
   "id": "36b59e04",
   "metadata": {},
   "outputs": [],
   "source": [
    "# Voeg kolom Lx toe (aantal mensen met leeftijd x dat in leven is)\n",
    "df['Lx'] = (df.lx + df.lx.shift(-1)) / 2\n",
    "df"
   ]
  },
  {
   "cell_type": "code",
   "execution_count": null,
   "id": "a1e0dd9b",
   "metadata": {},
   "outputs": [],
   "source": [
    "# Voeg kolom Tx toe (aantal persoon-jaren boven leeftijd x)\n",
    "df['Tx'] = df.Lx.iloc[::-1].cumsum().iloc[::-1]\n",
    "df"
   ]
  },
  {
   "cell_type": "code",
   "execution_count": null,
   "id": "080afdd1",
   "metadata": {},
   "outputs": [],
   "source": [
    "# Voeg kolom ex toe (levensverwachting bij leeftijd x)\n",
    "df['ex'] = df.Tx / df.lx\n",
    "df"
   ]
  },
  {
   "cell_type": "code",
   "execution_count": null,
   "id": "c451791b",
   "metadata": {},
   "outputs": [],
   "source": [
    "# Als je goed is heb je nu een volledige overlevingstabel voor de Aziaten met daarin de volgende kolommen:\n",
    "# lx | px | qx | Lx | Tx | ex\n",
    "display(df)\n",
    "# Haal uit kolom ex de levensverwachting van een Aziaat bij geboorte\n",
    "print('Levensverwachting bij geboorte van bevolginsgroep Aziaten: {:4.1f} jaar'.format(df.ex[0]))"
   ]
  },
  {
   "cell_type": "code",
   "execution_count": null,
   "id": "4c8d772a",
   "metadata": {},
   "outputs": [],
   "source": [
    "# We gaan nu met een for-loop een dict opbouwen met daarin de berekende overlevingstabellen voor \n",
    "# elk van de 5 bevolkingsgroepen:\n",
    "#\n",
    "# live_tables = {'asian': df_asian,\n",
    "#               ' blacks': df_blacks,\n",
    "#                'hispanics': df_hispanics,\n",
    "#                'natives': df_natives,\n",
    "#                'whites': df_whites}\n",
    "#\n",
    "#\n",
    "# Vervang daarvoor in onderstaande code de #XXXXXXXXXX met hetgeen je hiervoor al hebt berekend voor de Aziaten:\n",
    "#\n",
    "#\n",
    "\n",
    "life_table = {}\n",
    "life_expectancy = {}\n",
    "\n",
    "for col in data.columns:\n",
    "    \n",
    "    tab = data[[col]]\n",
    "    group = tab.columns[0].split('_')[1]\n",
    "    label = 'lx_' + group \n",
    "    df = tab.rename(columns={label: 'lx'})\n",
    "\n",
    "    df['px'] = df.lx.shift(-1) / df.lx\n",
    "    df['qx'] = #XXXXXXXXXX\n",
    "    df['Lx'] = #XXXXXXXXXX\n",
    "    df['Tx'] = #XXXXXXXXXX\n",
    "    df['ex'] = #XXXXXXXXXX\n",
    "    \n",
    "    life_table[group] = df\n",
    "    life_expectancy[group] = df.ex[0]"
   ]
  },
  {
   "cell_type": "code",
   "execution_count": null,
   "id": "53205f81",
   "metadata": {},
   "outputs": [],
   "source": [
    "# Als het goed is kun je nu voor elke bevolkingsgroep de berekende overlevingstabel oproepen.\n",
    "# Probeer het zelf eens door onderstaande regel te runnen voor diverse bevolgingsgroepen\n",
    "life_table['whites']"
   ]
  },
  {
   "cell_type": "code",
   "execution_count": null,
   "id": "4e569be3",
   "metadata": {},
   "outputs": [],
   "source": [
    "# En net zo voor de levensverwachting bij geboorte:\n",
    "life_expectancy['hispanics']"
   ]
  },
  {
   "cell_type": "code",
   "execution_count": null,
   "id": "97722404",
   "metadata": {},
   "outputs": [],
   "source": [
    "# We zetten de dict life_expectancy nu om naar een pd.Series\n",
    "s = pd.Series(life_expectancy).sort_values(ascending=False).round(1)\n",
    "s"
   ]
  },
  {
   "cell_type": "code",
   "execution_count": null,
   "id": "1cdfed3e",
   "metadata": {},
   "outputs": [],
   "source": [
    "# Tenslotte: zet de tabel (Series datastructuur) om naar een barplot!\n",
    "s.sort_values().plot(kind='barh', color='purple')"
   ]
  },
  {
   "cell_type": "code",
   "execution_count": null,
   "id": "70712fe9",
   "metadata": {},
   "outputs": [],
   "source": [
    "# Kun je barplot nogmaals afdrukken maar dan met de balken in AG Groen of AG oranje?\n",
    "# Kleur AG Groen : '#0B6464' \n",
    "# Kleur AG Oranje: '#c86400'"
   ]
  },
  {
   "cell_type": "code",
   "execution_count": null,
   "id": "452c18d0",
   "metadata": {},
   "outputs": [],
   "source": [
    "# Tenslotte: Kun je de plot ook een titel geven?"
   ]
  },
  {
   "cell_type": "code",
   "execution_count": null,
   "id": "8eef1698",
   "metadata": {},
   "outputs": [],
   "source": []
  }
 ],
 "metadata": {
  "kernelspec": {
   "display_name": "Python 3 (ipykernel)",
   "language": "python",
   "name": "python3"
  },
  "language_info": {
   "codemirror_mode": {
    "name": "ipython",
    "version": 3
   },
   "file_extension": ".py",
   "mimetype": "text/x-python",
   "name": "python",
   "nbconvert_exporter": "python",
   "pygments_lexer": "ipython3",
   "version": "3.8.10"
  }
 },
 "nbformat": 4,
 "nbformat_minor": 5
}
